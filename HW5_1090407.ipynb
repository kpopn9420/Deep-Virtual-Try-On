{
  "cells": [
    {
      "cell_type": "markdown",
      "metadata": {
        "id": "view-in-github",
        "colab_type": "text"
      },
      "source": [
        "<a href=\"https://colab.research.google.com/github/kpopn9420/Deep-Virtual-Try-On/blob/master/HW5_1090407.ipynb\" target=\"_parent\"><img src=\"https://colab.research.google.com/assets/colab-badge.svg\" alt=\"Open In Colab\"/></a>"
      ]
    },
    {
      "cell_type": "markdown",
      "metadata": {
        "id": "lOlRRz5jAhF3"
      },
      "source": [
        "## Notice: \n",
        "\n",
        "1.   Please add data augmentation code by yourself!\n",
        "2.   Download submission.csv and submit to Kaggle\n",
        "\n",
        "\n",
        "---\n",
        "\n",
        "\n",
        "\n",
        "\n",
        "\n",
        "\n",
        "\n",
        "\n"
      ]
    },
    {
      "cell_type": "code",
      "execution_count": null,
      "metadata": {
        "id": "xNvW5exhN220"
      },
      "outputs": [],
      "source": [
        "import cv2\n",
        "import matplotlib.pyplot as plt\n",
        "import numpy as np\n",
        "import os\n",
        "from glob import glob\n",
        "from tqdm.auto import tqdm\n",
        "import tensorflow as tf\n",
        "from tensorflow.keras import layers, models, utils\n",
        "from sklearn.model_selection import train_test_split\n",
        "import pandas as pd\n",
        "from tensorflow.python.keras.models import load_model \n",
        "from tensorflow.keras.models import Model\n",
        "import h5py \n",
        "from keras.preprocessing.image import ImageDataGenerator\n",
        "\n",
        "from skimage import io\n",
        "\n",
        "import imgaug.augmenters as iaa\n",
        "import imgaug as ia"
      ]
    },
    {
      "cell_type": "markdown",
      "metadata": {
        "id": "xR6RhbN7OHIy"
      },
      "source": [
        "#### Download dataset"
      ]
    },
    {
      "cell_type": "code",
      "execution_count": 25,
      "metadata": {
        "id": "NksgqF31_eAy",
        "colab": {
          "base_uri": "https://localhost:8080/"
        },
        "outputId": "4b7ecac0-8213-40dc-ac89-ff646293262c"
      },
      "outputs": [
        {
          "output_type": "stream",
          "name": "stdout",
          "text": [
            "Drive already mounted at /content/drive; to attempt to forcibly remount, call drive.mount(\"/content/drive\", force_remount=True).\n"
          ]
        }
      ],
      "source": [
        "from google.colab import drive\n",
        "drive.mount('/content/drive')"
      ]
    },
    {
      "cell_type": "code",
      "execution_count": null,
      "metadata": {
        "id": "lbBfMxTI_ezS"
      },
      "outputs": [],
      "source": [
        "# unzip dataset file \n",
        "# Plase Modify to your own file path!!!! \n",
        "!unzip -q '/content/drive/MyDrive/pneumonia-kaggle.zip'"
      ]
    },
    {
      "cell_type": "markdown",
      "metadata": {
        "id": "o8WbN3tCOPrJ"
      },
      "source": [
        "#### Prepare dataset\n"
      ]
    },
    {
      "cell_type": "code",
      "execution_count": null,
      "metadata": {
        "id": "cB_J9eXcONCb",
        "colab": {
          "base_uri": "https://localhost:8080/"
        },
        "outputId": "de652d8b-9fe0-4c46-f5ce-8ad52688f1d1"
      },
      "outputs": [
        {
          "output_type": "execute_result",
          "data": {
            "text/plain": [
              "{'normal': 0, 'bacteria': 1, 'virus': 2}"
            ]
          },
          "metadata": {},
          "execution_count": 4
        }
      ],
      "source": [
        "IMG_SIZE = 200\n",
        "BATCH_SIZE = 64\n",
        "\n",
        "all_class = ['normal', 'bacteria', 'virus']\n",
        "class_map = {cls:i for i,cls in enumerate(all_class)} #  'normal':0, 'bacteria': 1, 'virus':2\n",
        "class_map"
      ]
    },
    {
      "cell_type": "code",
      "execution_count": null,
      "metadata": {
        "id": "ZA5ZTvTCORGY"
      },
      "outputs": [],
      "source": [
        "# read all paths\n",
        "img_paths_all = glob('pneumonia-kaggle/train/*/*.jpeg')\n",
        "img_paths_test = sorted(glob('pneumonia-kaggle/test/*.jpeg'))\n",
        "img_paths_train, img_paths_val = train_test_split(img_paths_all, test_size=0.2)"
      ]
    },
    {
      "cell_type": "code",
      "execution_count": null,
      "metadata": {
        "id": "TP0o7bObOSq8",
        "colab": {
          "base_uri": "https://localhost:8080/"
        },
        "outputId": "ca65dbbd-3e5b-4d4c-8ca1-bb258595145a"
      },
      "outputs": [
        {
          "output_type": "execute_result",
          "data": {
            "text/plain": [
              "(4172, 1044, 624)"
            ]
          },
          "metadata": {},
          "execution_count": 6
        }
      ],
      "source": [
        "# number of images\n",
        "len(img_paths_train), len(img_paths_val), len(img_paths_test)"
      ]
    },
    {
      "cell_type": "code",
      "execution_count": null,
      "metadata": {
        "id": "tOTqXcGcOmWl"
      },
      "outputs": [],
      "source": [
        "class DataGenerator(utils.Sequence):\n",
        "    def __init__(self, paths, batch_size, img_size, mode='train', aug=False):\n",
        "        self.paths = paths\n",
        "        self.batch_size = batch_size\n",
        "        self.shuffle = mode == 'train'\n",
        "        self.indexes = np.arange(len(self.paths))\n",
        "        all_class = ['normal', 'bacteria', 'virus']\n",
        "        self.class_map = {cls:i for i,cls in enumerate(all_class)}\n",
        "        self.num_classes = len(self.class_map)\n",
        "        self.img_size = img_size\n",
        "        self.aug = aug\n",
        "        self.seq = iaa.Sequential([\n",
        "            iaa.Affine(\n",
        "                rotate=(-10, 10), # random rotate -45 ~ +45 degree\n",
        "                shear=(-16,16), # random shear -16 ~ +16 degree\n",
        "                scale={\"x\": (0.8, 1.2), \"y\": (0.8, 1.2)} # scale x, y: 80%~120%\n",
        "            ),\n",
        "        ])\n",
        "        self.mode = mode\n",
        "        self.on_epoch_end()\n",
        "\n",
        "    def __len__(self):\n",
        "        'number of batches per epoch'\n",
        "        return int(np.ceil(len(self.paths) / self.batch_size))\n",
        "\n",
        "    def __getitem__(self, index):\n",
        "        'Generate one batch of data'\n",
        "        # Generate indexes of the batch\n",
        "        idxs = self.indexes[index * self.batch_size:(index + 1) * self.batch_size]\n",
        "        # Find list of IDs\n",
        "        batch_paths = [self.paths[i] for i in idxs]\n",
        "        # Generate data\n",
        "        return self.__data_generation(batch_paths)\n",
        "\n",
        "    def on_epoch_end(self):\n",
        "        'Updates indexes after each epoch'\n",
        "        if self.shuffle:\n",
        "            np.random.shuffle(self.indexes)\n",
        "\n",
        "    def __data_generation(self, paths):\n",
        "        \"\"\"\n",
        "        Generates data containing batch_size samples\n",
        "        \"\"\"\n",
        "        x = np.empty((len(paths), self.img_size, self.img_size, 3), dtype=np.float32)\n",
        "        y = np.empty((len(paths)))\n",
        "\n",
        "        for i, path in enumerate(paths):\n",
        "            img = cv2.imread(path)[:,:,::-1]\n",
        "            # img preprocess\n",
        "            img = cv2.resize(img, (self.img_size, self.img_size))\n",
        "            ######### Modify your preprocess 前處理請依選用模型定義 !!!!!! ##########\n",
        "            img = tf.keras.applications.vgg16.preprocess_input(img)\n",
        "            if self.mode != 'test':\n",
        "                # read class label\n",
        "                cls = path.split(os.sep)[-2].lower()\n",
        "                if cls == 'pneumonia':\n",
        "                    # get filename\n",
        "                    filename = path.split(os.sep)[-1]\n",
        "                    # get pneumonia subclass\n",
        "                    cls_pneumonia = filename.split('_')[1] \n",
        "                    cls_idx = class_map[cls_pneumonia]\n",
        "                # for normal class\n",
        "                else:\n",
        "                    cls_idx = class_map[cls]\n",
        "                y[i] = cls_idx\n",
        "            x[i] = img\n",
        "\n",
        "        if self.mode != 'test':            \n",
        "            # one-hot encoding\n",
        "            y = tf.keras.utils.to_categorical(y, num_classes=self.num_classes)\n",
        "            if self.aug:\n",
        "              x = self.augmentation(x)\n",
        "            return x, y\n",
        "        else:\n",
        "          return x\n",
        "            \n",
        "    def augmentation(self, imgs):\n",
        "       return self.seq.augment_images(imgs)"
      ]
    },
    {
      "cell_type": "code",
      "execution_count": null,
      "metadata": {
        "id": "SBqzfZkXQkVQ"
      },
      "outputs": [],
      "source": [
        "gen_train = DataGenerator(img_paths_train, BATCH_SIZE, IMG_SIZE, mode='train', aug=True)\n",
        "gen_val = DataGenerator(img_paths_val, BATCH_SIZE, IMG_SIZE, mode='val', aug=True)\n",
        "gen_test = DataGenerator(img_paths_test, BATCH_SIZE, IMG_SIZE, mode='test')"
      ]
    },
    {
      "cell_type": "markdown",
      "metadata": {
        "id": "lN8txlyVRKAd"
      },
      "source": [
        "### Build model"
      ]
    },
    {
      "cell_type": "code",
      "execution_count": null,
      "metadata": {
        "id": "3fScRzPtaWcA",
        "colab": {
          "base_uri": "https://localhost:8080/"
        },
        "outputId": "951f28a6-3091-4d88-ed71-57044ea1c477"
      },
      "outputs": [
        {
          "output_type": "stream",
          "name": "stdout",
          "text": [
            "Downloading data from https://storage.googleapis.com/tensorflow/keras-applications/vgg16/vgg16_weights_tf_dim_ordering_tf_kernels_notop.h5\n",
            "58889256/58889256 [==============================] - 4s 0us/step\n"
          ]
        }
      ],
      "source": [
        "base_model = tf.keras.applications.VGG16(\n",
        "    include_top=False,\n",
        "    weights='imagenet',\n",
        "    input_shape=(IMG_SIZE, IMG_SIZE, 3),\n",
        "    classifier_activation=\"softmax\",\n",
        "    )\n",
        "\n",
        "x = layers.GlobalAveragePooling2D()(base_model.output) \n",
        "x = layers.Dense(256, activation='relu')(x)\n",
        "x = layers.Dropout(0.3)(x)\n",
        "x = layers.Dense(128, activation='relu')(x)\n",
        "x = layers.Dropout(0.3)(x)\n",
        "x = layers.Dense(3, activation='softmax')(x)\n",
        "\n",
        "for l in base_model.layers:\n",
        "    l.trainable = False\n",
        "    \n",
        "model = models.Model(base_model.input, x)"
      ]
    },
    {
      "cell_type": "code",
      "execution_count": null,
      "metadata": {
        "id": "NFvxw6Aobuh7",
        "colab": {
          "base_uri": "https://localhost:8080/"
        },
        "outputId": "7df4d660-7f58-4f5f-93d0-45a5839b24f0"
      },
      "outputs": [
        {
          "output_type": "stream",
          "name": "stdout",
          "text": [
            "Model: \"model\"\n",
            "_________________________________________________________________\n",
            " Layer (type)                Output Shape              Param #   \n",
            "=================================================================\n",
            " input_1 (InputLayer)        [(None, 200, 200, 3)]     0         \n",
            "                                                                 \n",
            " block1_conv1 (Conv2D)       (None, 200, 200, 64)      1792      \n",
            "                                                                 \n",
            " block1_conv2 (Conv2D)       (None, 200, 200, 64)      36928     \n",
            "                                                                 \n",
            " block1_pool (MaxPooling2D)  (None, 100, 100, 64)      0         \n",
            "                                                                 \n",
            " block2_conv1 (Conv2D)       (None, 100, 100, 128)     73856     \n",
            "                                                                 \n",
            " block2_conv2 (Conv2D)       (None, 100, 100, 128)     147584    \n",
            "                                                                 \n",
            " block2_pool (MaxPooling2D)  (None, 50, 50, 128)       0         \n",
            "                                                                 \n",
            " block3_conv1 (Conv2D)       (None, 50, 50, 256)       295168    \n",
            "                                                                 \n",
            " block3_conv2 (Conv2D)       (None, 50, 50, 256)       590080    \n",
            "                                                                 \n",
            " block3_conv3 (Conv2D)       (None, 50, 50, 256)       590080    \n",
            "                                                                 \n",
            " block3_pool (MaxPooling2D)  (None, 25, 25, 256)       0         \n",
            "                                                                 \n",
            " block4_conv1 (Conv2D)       (None, 25, 25, 512)       1180160   \n",
            "                                                                 \n",
            " block4_conv2 (Conv2D)       (None, 25, 25, 512)       2359808   \n",
            "                                                                 \n",
            " block4_conv3 (Conv2D)       (None, 25, 25, 512)       2359808   \n",
            "                                                                 \n",
            " block4_pool (MaxPooling2D)  (None, 12, 12, 512)       0         \n",
            "                                                                 \n",
            " block5_conv1 (Conv2D)       (None, 12, 12, 512)       2359808   \n",
            "                                                                 \n",
            " block5_conv2 (Conv2D)       (None, 12, 12, 512)       2359808   \n",
            "                                                                 \n",
            " block5_conv3 (Conv2D)       (None, 12, 12, 512)       2359808   \n",
            "                                                                 \n",
            " block5_pool (MaxPooling2D)  (None, 6, 6, 512)         0         \n",
            "                                                                 \n",
            " global_average_pooling2d (G  (None, 512)              0         \n",
            " lobalAveragePooling2D)                                          \n",
            "                                                                 \n",
            " dense (Dense)               (None, 256)               131328    \n",
            "                                                                 \n",
            " dropout (Dropout)           (None, 256)               0         \n",
            "                                                                 \n",
            " dense_1 (Dense)             (None, 128)               32896     \n",
            "                                                                 \n",
            " dropout_1 (Dropout)         (None, 128)               0         \n",
            "                                                                 \n",
            " dense_2 (Dense)             (None, 3)                 387       \n",
            "                                                                 \n",
            "=================================================================\n",
            "Total params: 14,879,299\n",
            "Trainable params: 164,611\n",
            "Non-trainable params: 14,714,688\n",
            "_________________________________________________________________\n"
          ]
        }
      ],
      "source": [
        "model.summary()"
      ]
    },
    {
      "cell_type": "markdown",
      "metadata": {
        "id": "AcMyRv1iSDPu"
      },
      "source": [
        "#### Training"
      ]
    },
    {
      "cell_type": "code",
      "execution_count": null,
      "metadata": {
        "id": "RuYUPErEbw3h"
      },
      "outputs": [],
      "source": [
        "model.compile(tf.keras.optimizers.Adam(learning_rate=1e-3),\n",
        "              loss=tf.keras.losses.categorical_crossentropy,\n",
        "              metrics=['accuracy'])"
      ]
    },
    {
      "cell_type": "code",
      "execution_count": 12,
      "metadata": {
        "colab": {
          "base_uri": "https://localhost:8080/"
        },
        "id": "9EeJ275AbxXt",
        "outputId": "b5864aa5-de3d-44fb-ef55-0a8013e3c1d6"
      },
      "outputs": [
        {
          "output_type": "stream",
          "name": "stdout",
          "text": [
            "Epoch 1/1000\n",
            "66/66 [==============================] - 147s 2s/step - loss: 1.1194 - accuracy: 0.6055 - val_loss: 0.6590 - val_accuracy: 0.7318 - lr: 0.0010\n",
            "Epoch 2/1000\n",
            "66/66 [==============================] - 129s 2s/step - loss: 0.6582 - accuracy: 0.7064 - val_loss: 0.5781 - val_accuracy: 0.7634 - lr: 0.0010\n",
            "Epoch 3/1000\n",
            "66/66 [==============================] - 129s 2s/step - loss: 0.5939 - accuracy: 0.7325 - val_loss: 0.5768 - val_accuracy: 0.7682 - lr: 0.0010\n",
            "Epoch 4/1000\n",
            "66/66 [==============================] - 127s 2s/step - loss: 0.5759 - accuracy: 0.7402 - val_loss: 0.5506 - val_accuracy: 0.7730 - lr: 0.0010\n",
            "Epoch 5/1000\n",
            "66/66 [==============================] - 128s 2s/step - loss: 0.5582 - accuracy: 0.7639 - val_loss: 0.5468 - val_accuracy: 0.7778 - lr: 0.0010\n",
            "Epoch 6/1000\n",
            "66/66 [==============================] - 127s 2s/step - loss: 0.5364 - accuracy: 0.7661 - val_loss: 0.5241 - val_accuracy: 0.7845 - lr: 0.0010\n",
            "Epoch 7/1000\n",
            "66/66 [==============================] - 128s 2s/step - loss: 0.5243 - accuracy: 0.7701 - val_loss: 0.5314 - val_accuracy: 0.7807 - lr: 0.0010\n",
            "Epoch 8/1000\n",
            "66/66 [==============================] - 127s 2s/step - loss: 0.5156 - accuracy: 0.7697 - val_loss: 0.5363 - val_accuracy: 0.7768 - lr: 0.0010\n",
            "Epoch 9/1000\n",
            "66/66 [==============================] - 128s 2s/step - loss: 0.5187 - accuracy: 0.7776 - val_loss: 0.5098 - val_accuracy: 0.7893 - lr: 0.0010\n",
            "Epoch 10/1000\n",
            "66/66 [==============================] - 127s 2s/step - loss: 0.5055 - accuracy: 0.7821 - val_loss: 0.5150 - val_accuracy: 0.7912 - lr: 0.0010\n",
            "Epoch 11/1000\n",
            "66/66 [==============================] - 128s 2s/step - loss: 0.4803 - accuracy: 0.7905 - val_loss: 0.5126 - val_accuracy: 0.7950 - lr: 0.0010\n",
            "Epoch 12/1000\n",
            "66/66 [==============================] - 127s 2s/step - loss: 0.4902 - accuracy: 0.7840 - val_loss: 0.4968 - val_accuracy: 0.7960 - lr: 0.0010\n",
            "Epoch 13/1000\n",
            "66/66 [==============================] - 126s 2s/step - loss: 0.4897 - accuracy: 0.7852 - val_loss: 0.5169 - val_accuracy: 0.7826 - lr: 0.0010\n",
            "Epoch 14/1000\n",
            "66/66 [==============================] - 124s 2s/step - loss: 0.4764 - accuracy: 0.7931 - val_loss: 0.4975 - val_accuracy: 0.7989 - lr: 0.0010\n",
            "Epoch 15/1000\n",
            "66/66 [==============================] - 125s 2s/step - loss: 0.4643 - accuracy: 0.8025 - val_loss: 0.5165 - val_accuracy: 0.7864 - lr: 0.0010\n",
            "Epoch 16/1000\n",
            "66/66 [==============================] - 124s 2s/step - loss: 0.4548 - accuracy: 0.8032 - val_loss: 0.4923 - val_accuracy: 0.7989 - lr: 3.0000e-04\n",
            "Epoch 17/1000\n",
            "66/66 [==============================] - 125s 2s/step - loss: 0.4445 - accuracy: 0.8056 - val_loss: 0.4889 - val_accuracy: 0.7941 - lr: 3.0000e-04\n",
            "Epoch 18/1000\n",
            "66/66 [==============================] - 124s 2s/step - loss: 0.4511 - accuracy: 0.8111 - val_loss: 0.4970 - val_accuracy: 0.7979 - lr: 3.0000e-04\n",
            "Epoch 19/1000\n",
            "66/66 [==============================] - 125s 2s/step - loss: 0.4461 - accuracy: 0.8015 - val_loss: 0.4837 - val_accuracy: 0.7979 - lr: 3.0000e-04\n",
            "Epoch 20/1000\n",
            "66/66 [==============================] - 124s 2s/step - loss: 0.4405 - accuracy: 0.8080 - val_loss: 0.5011 - val_accuracy: 0.8017 - lr: 3.0000e-04\n",
            "Epoch 21/1000\n",
            "66/66 [==============================] - 124s 2s/step - loss: 0.4414 - accuracy: 0.8140 - val_loss: 0.4816 - val_accuracy: 0.7921 - lr: 3.0000e-04\n",
            "Epoch 22/1000\n",
            "66/66 [==============================] - 123s 2s/step - loss: 0.4450 - accuracy: 0.8054 - val_loss: 0.4897 - val_accuracy: 0.7874 - lr: 3.0000e-04\n",
            "Epoch 23/1000\n",
            "66/66 [==============================] - 125s 2s/step - loss: 0.4404 - accuracy: 0.8051 - val_loss: 0.4887 - val_accuracy: 0.7989 - lr: 3.0000e-04\n",
            "Epoch 24/1000\n",
            "66/66 [==============================] - 123s 2s/step - loss: 0.4389 - accuracy: 0.8138 - val_loss: 0.4841 - val_accuracy: 0.7931 - lr: 3.0000e-04\n",
            "Epoch 25/1000\n",
            "66/66 [==============================] - 124s 2s/step - loss: 0.4406 - accuracy: 0.8104 - val_loss: 0.4859 - val_accuracy: 0.7950 - lr: 9.0000e-05\n",
            "Epoch 26/1000\n",
            "66/66 [==============================] - 124s 2s/step - loss: 0.4277 - accuracy: 0.8104 - val_loss: 0.4852 - val_accuracy: 0.8056 - lr: 9.0000e-05\n",
            "Epoch 27/1000\n",
            "66/66 [==============================] - 126s 2s/step - loss: 0.4327 - accuracy: 0.8121 - val_loss: 0.4956 - val_accuracy: 0.7931 - lr: 9.0000e-05\n",
            "Epoch 28/1000\n",
            "66/66 [==============================] - 127s 2s/step - loss: 0.4307 - accuracy: 0.8114 - val_loss: 0.4726 - val_accuracy: 0.7941 - lr: 2.7000e-05\n",
            "Epoch 29/1000\n",
            "66/66 [==============================] - 125s 2s/step - loss: 0.4317 - accuracy: 0.8135 - val_loss: 0.4915 - val_accuracy: 0.7921 - lr: 2.7000e-05\n",
            "Epoch 30/1000\n",
            "66/66 [==============================] - 125s 2s/step - loss: 0.4247 - accuracy: 0.8171 - val_loss: 0.4897 - val_accuracy: 0.7931 - lr: 2.7000e-05\n",
            "Epoch 31/1000\n",
            "66/66 [==============================] - 125s 2s/step - loss: 0.4304 - accuracy: 0.8200 - val_loss: 0.4833 - val_accuracy: 0.8027 - lr: 2.7000e-05\n",
            "Epoch 32/1000\n",
            "66/66 [==============================] - 128s 2s/step - loss: 0.4293 - accuracy: 0.8133 - val_loss: 0.4882 - val_accuracy: 0.7912 - lr: 8.1000e-06\n",
            "Epoch 33/1000\n",
            "66/66 [==============================] - 128s 2s/step - loss: 0.4334 - accuracy: 0.8121 - val_loss: 0.4904 - val_accuracy: 0.7931 - lr: 8.1000e-06\n",
            "Epoch 34/1000\n",
            "66/66 [==============================] - 126s 2s/step - loss: 0.4227 - accuracy: 0.8226 - val_loss: 0.4940 - val_accuracy: 0.8056 - lr: 8.1000e-06\n",
            "Epoch 35/1000\n",
            "66/66 [==============================] - 128s 2s/step - loss: 0.4258 - accuracy: 0.8174 - val_loss: 0.4712 - val_accuracy: 0.8075 - lr: 2.4300e-06\n",
            "Epoch 36/1000\n",
            "66/66 [==============================] - 126s 2s/step - loss: 0.4225 - accuracy: 0.8126 - val_loss: 0.4688 - val_accuracy: 0.8046 - lr: 2.4300e-06\n",
            "Epoch 37/1000\n",
            "66/66 [==============================] - 127s 2s/step - loss: 0.4216 - accuracy: 0.8164 - val_loss: 0.4865 - val_accuracy: 0.7960 - lr: 2.4300e-06\n",
            "Epoch 38/1000\n",
            "66/66 [==============================] - 127s 2s/step - loss: 0.4129 - accuracy: 0.8190 - val_loss: 0.4774 - val_accuracy: 0.7989 - lr: 2.4300e-06\n",
            "Epoch 39/1000\n",
            "66/66 [==============================] - 126s 2s/step - loss: 0.4203 - accuracy: 0.8195 - val_loss: 0.4759 - val_accuracy: 0.7960 - lr: 2.4300e-06\n",
            "Epoch 40/1000\n",
            "66/66 [==============================] - 127s 2s/step - loss: 0.4250 - accuracy: 0.8202 - val_loss: 0.4954 - val_accuracy: 0.7989 - lr: 7.2900e-07\n",
            "Epoch 41/1000\n",
            "66/66 [==============================] - 127s 2s/step - loss: 0.4176 - accuracy: 0.8097 - val_loss: 0.4865 - val_accuracy: 0.7931 - lr: 7.2900e-07\n",
            "Epoch 42/1000\n",
            "66/66 [==============================] - 125s 2s/step - loss: 0.4246 - accuracy: 0.8140 - val_loss: 0.4963 - val_accuracy: 0.7941 - lr: 7.2900e-07\n",
            "Epoch 43/1000\n",
            "66/66 [==============================] - 124s 2s/step - loss: 0.4266 - accuracy: 0.8186 - val_loss: 0.4658 - val_accuracy: 0.8027 - lr: 2.1870e-07\n",
            "Epoch 44/1000\n",
            "66/66 [==============================] - 124s 2s/step - loss: 0.4251 - accuracy: 0.8219 - val_loss: 0.4922 - val_accuracy: 0.7950 - lr: 2.1870e-07\n",
            "Epoch 45/1000\n",
            "66/66 [==============================] - 124s 2s/step - loss: 0.4145 - accuracy: 0.8245 - val_loss: 0.4895 - val_accuracy: 0.7864 - lr: 2.1870e-07\n",
            "Epoch 46/1000\n",
            "66/66 [==============================] - 125s 2s/step - loss: 0.4219 - accuracy: 0.8157 - val_loss: 0.4727 - val_accuracy: 0.8017 - lr: 2.1870e-07\n",
            "Epoch 47/1000\n",
            "66/66 [==============================] - 127s 2s/step - loss: 0.4275 - accuracy: 0.8130 - val_loss: 0.4997 - val_accuracy: 0.7893 - lr: 6.5610e-08\n",
            "Epoch 48/1000\n",
            "66/66 [==============================] - 124s 2s/step - loss: 0.4303 - accuracy: 0.8202 - val_loss: 0.4940 - val_accuracy: 0.7969 - lr: 6.5610e-08\n",
            "Epoch 49/1000\n",
            "66/66 [==============================] - 127s 2s/step - loss: 0.4296 - accuracy: 0.8116 - val_loss: 0.4889 - val_accuracy: 0.7931 - lr: 6.5610e-08\n",
            "Epoch 50/1000\n",
            "66/66 [==============================] - 124s 2s/step - loss: 0.4224 - accuracy: 0.8214 - val_loss: 0.4769 - val_accuracy: 0.8027 - lr: 1.9683e-08\n",
            "Epoch 51/1000\n",
            "66/66 [==============================] - 125s 2s/step - loss: 0.4232 - accuracy: 0.8178 - val_loss: 0.4815 - val_accuracy: 0.8036 - lr: 1.9683e-08\n",
            "Epoch 52/1000\n",
            "66/66 [==============================] - 126s 2s/step - loss: 0.4211 - accuracy: 0.8154 - val_loss: 0.4883 - val_accuracy: 0.7998 - lr: 1.9683e-08\n",
            "Epoch 53/1000\n",
            "66/66 [==============================] - 126s 2s/step - loss: 0.4184 - accuracy: 0.8193 - val_loss: 0.4791 - val_accuracy: 0.7931 - lr: 5.9049e-09\n"
          ]
        }
      ],
      "source": [
        "logs = model.fit(gen_train,\n",
        "          batch_size=32,       \n",
        "          epochs=1000,\n",
        "          callbacks=[\n",
        "                     tf.keras.callbacks.EarlyStopping(patience=10),\n",
        "                     tf.keras.callbacks.ModelCheckpoint('./best.h5', save_best_only=True,),\n",
        "                     tf.keras.callbacks.ModelCheckpoint('./last.h5', save_best_only=False,),\n",
        "                     tf.keras.callbacks.ReduceLROnPlateau(patience=3, factor=0.3),\n",
        "          ],\n",
        "          validation_data=gen_val)"
      ]
    },
    {
      "cell_type": "markdown",
      "metadata": {
        "id": "1DGWlsFMasgN"
      },
      "source": [
        "#### Training logs"
      ]
    },
    {
      "cell_type": "code",
      "execution_count": 14,
      "metadata": {
        "id": "UTYekKKeZMgQ",
        "colab": {
          "base_uri": "https://localhost:8080/"
        },
        "outputId": "cc539380-949c-49a8-c6cf-382e894393c2"
      },
      "outputs": [
        {
          "output_type": "stream",
          "name": "stdout",
          "text": [
            "val loss  0.4658414125442505\n",
            "val acc 0.8026819825172424\n"
          ]
        }
      ],
      "source": [
        "history = logs.history\n",
        "min_loss_epoch = np.argmin(history['val_loss'])\n",
        "print('val loss ', history['val_loss'][min_loss_epoch])\n",
        "print('val acc', history['val_accuracy'][min_loss_epoch])"
      ]
    },
    {
      "cell_type": "code",
      "execution_count": 16,
      "metadata": {
        "id": "5TD9yp-BZ6-5",
        "colab": {
          "base_uri": "https://localhost:8080/",
          "height": 336
        },
        "outputId": "166dc2a2-0ae4-4ead-9e2e-d55260f3580c"
      },
      "outputs": [
        {
          "output_type": "display_data",
          "data": {
            "text/plain": [
              "<Figure size 720x360 with 2 Axes>"
            ],
            "image/png": "[encoded data removed]"
          },
          "metadata": {
            "needs_background": "light"
          }
        }
      ],
      "source": [
        "plt.figure(figsize=(10, 5))\n",
        "plt.subplot(1,2,1)\n",
        "plt.plot(history['accuracy'])\n",
        "plt.plot(history['val_accuracy'])\n",
        "plt.legend(['categorical_accuracy', 'val_accuracy'])\n",
        "plt.title('categorical_accuracy')\n",
        "plt.subplot(1,2,2)\n",
        "plt.plot(history['loss'])\n",
        "plt.plot(history['val_loss'])\n",
        "plt.legend(['loss', 'val_loss'])\n",
        "plt.title('loss')\n",
        "plt.show()"
      ]
    },
    {
      "cell_type": "markdown",
      "metadata": {
        "id": "Y4vSiYFyaunl"
      },
      "source": [
        "#### Metrics"
      ]
    },
    {
      "cell_type": "code",
      "execution_count": 17,
      "metadata": {
        "id": "lHU00QAPVwgM"
      },
      "outputs": [],
      "source": [
        "# load best model\n",
        "model2 = tf.keras.models.load_model('./best.h5')"
      ]
    },
    {
      "cell_type": "code",
      "execution_count": 18,
      "metadata": {
        "id": "Rrwg5aLPaX3u",
        "colab": {
          "base_uri": "https://localhost:8080/",
          "height": 354,
          "referenced_widgets": [
            "2b49b2c080df4da38baaa81a02f66a21",
            "f2ec4c321c2845aa8c89f87442be0efb",
            "4a66de9e09ff42f1bdbf2827f60652d2",
            "e8065858ba704b57a3a8b788009f936a",
            "deeb40e3a04a4368a66d617046a6c557",
            "e76321cfd1174204a24c268582553e7a",
            "0ab595dff6e44a86bf50afe441411c04",
            "964b4251fda84fa88b30658e469e71d0",
            "71f80ae80cf342a8a77741d7db27190f",
            "d9640b173a6b4458951ce07ea507d199",
            "853c1293a0b442a582cd1d02ad000f38"
          ]
        },
        "outputId": "945ed57f-4b7e-449c-d219-363924344d6b"
      },
      "outputs": [
        {
          "output_type": "display_data",
          "data": {
            "text/plain": [
              "  0%|          | 0/17 [00:00<?, ?it/s]"
            ],
            "application/vnd.jupyter.widget-view+json": {
              "version_major": 2,
              "version_minor": 0,
              "model_id": "2b49b2c080df4da38baaa81a02f66a21"
            }
          },
          "metadata": {}
        },
        {
          "output_type": "stream",
          "name": "stdout",
          "text": [
            "2/2 [==============================] - 2s 13ms/step\n",
            "2/2 [==============================] - 0s 117ms/step\n",
            "2/2 [==============================] - 0s 134ms/step\n",
            "2/2 [==============================] - 0s 121ms/step\n",
            "2/2 [==============================] - 0s 117ms/step\n",
            "2/2 [==============================] - 0s 118ms/step\n",
            "2/2 [==============================] - 0s 119ms/step\n",
            "2/2 [==============================] - 0s 118ms/step\n",
            "2/2 [==============================] - 0s 118ms/step\n",
            "2/2 [==============================] - 0s 116ms/step\n",
            "2/2 [==============================] - 0s 125ms/step\n",
            "2/2 [==============================] - 0s 172ms/step\n",
            "2/2 [==============================] - 0s 118ms/step\n",
            "2/2 [==============================] - 0s 118ms/step\n",
            "2/2 [==============================] - 0s 117ms/step\n",
            "2/2 [==============================] - 0s 118ms/step\n",
            "1/1 [==============================] - 0s 133ms/step\n"
          ]
        }
      ],
      "source": [
        "from sklearn.metrics import classification_report, confusion_matrix\n",
        "\n",
        "y_pred = np.array([])\n",
        "y_true = np.array([])\n",
        "for x_val, y_val in tqdm(gen_val):\n",
        "    pred = model.predict(x_val)\n",
        "    y_pred = np.append(y_pred, np.argmax(pred, axis=-1))\n",
        "    y_true = np.append(y_true, np.argmax(y_val, axis=-1))"
      ]
    },
    {
      "cell_type": "code",
      "execution_count": 19,
      "metadata": {
        "id": "kW-d9lZPbHBW",
        "colab": {
          "base_uri": "https://localhost:8080/"
        },
        "outputId": "7db5656f-34bc-4d1a-90a9-77cc05a528a0"
      },
      "outputs": [
        {
          "output_type": "stream",
          "name": "stdout",
          "text": [
            "              precision    recall  f1-score   support\n",
            "\n",
            "         0.0       0.90      0.95      0.93       241\n",
            "         1.0       0.81      0.85      0.83       535\n",
            "         2.0       0.69      0.59      0.63       268\n",
            "\n",
            "    accuracy                           0.81      1044\n",
            "   macro avg       0.80      0.80      0.80      1044\n",
            "weighted avg       0.80      0.81      0.80      1044\n",
            "\n"
          ]
        }
      ],
      "source": [
        "# classification_report\n",
        "print(classification_report(y_true, y_pred))"
      ]
    },
    {
      "cell_type": "code",
      "execution_count": 20,
      "metadata": {
        "id": "d1XjMpsAcmsj",
        "colab": {
          "base_uri": "https://localhost:8080/"
        },
        "outputId": "bcc5d976-0d80-46f0-86ad-a6615e88d04a"
      },
      "outputs": [
        {
          "output_type": "stream",
          "name": "stdout",
          "text": [
            "[[229   6   6]\n",
            " [ 13 456  66]\n",
            " [ 12  99 157]]\n"
          ]
        }
      ],
      "source": [
        "# Confusion matrix:\n",
        "#   row: Ground truth\n",
        "#   column: predict\n",
        "print(confusion_matrix(y_true, y_pred))"
      ]
    },
    {
      "cell_type": "markdown",
      "metadata": {
        "id": "KWEf9fQK9HVo"
      },
      "source": [
        "#### Make Kaggle Submission"
      ]
    },
    {
      "cell_type": "code",
      "execution_count": 21,
      "metadata": {
        "id": "E8iOAX549EeV",
        "colab": {
          "base_uri": "https://localhost:8080/"
        },
        "outputId": "1e498c9a-5228-4037-fec7-141c21aceec1"
      },
      "outputs": [
        {
          "output_type": "stream",
          "name": "stdout",
          "text": [
            "10/10 [==============================] - 18s 2s/step\n"
          ]
        }
      ],
      "source": [
        "predictions = np.argmax(model.predict(gen_test), axis=-1)"
      ]
    },
    {
      "cell_type": "code",
      "execution_count": 22,
      "metadata": {
        "id": "LoKTQdni9M6Z",
        "colab": {
          "base_uri": "https://localhost:8080/",
          "height": 423
        },
        "outputId": "bb2b3d1a-703e-405b-8cc1-f7c4b4de059e"
      },
      "outputs": [
        {
          "output_type": "execute_result",
          "data": {
            "text/plain": [
              "           Id  Category\n",
              "0    000.jpeg         2\n",
              "1    001.jpeg         1\n",
              "2    002.jpeg         1\n",
              "3    003.jpeg         1\n",
              "4    004.jpeg         0\n",
              "..        ...       ...\n",
              "619  619.jpeg         1\n",
              "620  620.jpeg         0\n",
              "621  621.jpeg         0\n",
              "622  622.jpeg         1\n",
              "623  623.jpeg         1\n",
              "\n",
              "[624 rows x 2 columns]"
            ],
            "text/html": [
              "\n",
              "  <div id=\"df-1667c11b-6539-4450-964a-37ba327fc33d\">\n",
              "    <div class=\"colab-df-container\">\n",
              "      <div>\n",
              "<style scoped>\n",
              "    .dataframe tbody tr th:only-of-type {\n",
              "        vertical-align: middle;\n",
              "    }\n",
              "\n",
              "    .dataframe tbody tr th {\n",
              "        vertical-align: top;\n",
              "    }\n",
              "\n",
              "    .dataframe thead th {\n",
              "        text-align: right;\n",
              "    }\n",
              "</style>\n",
              "<table border=\"1\" class=\"dataframe\">\n",
              "  <thead>\n",
              "    <tr style=\"text-align: right;\">\n",
              "      <th></th>\n",
              "      <th>Id</th>\n",
              "      <th>Category</th>\n",
              "    </tr>\n",
              "  </thead>\n",
              "  <tbody>\n",
              "    <tr>\n",
              "      <th>0</th>\n",
              "      <td>000.jpeg</td>\n",
              "      <td>2</td>\n",
              "    </tr>\n",
              "    <tr>\n",
              "      <th>1</th>\n",
              "      <td>001.jpeg</td>\n",
              "      <td>1</td>\n",
              "    </tr>\n",
              "    <tr>\n",
              "      <th>2</th>\n",
              "      <td>002.jpeg</td>\n",
              "      <td>1</td>\n",
              "    </tr>\n",
              "    <tr>\n",
              "      <th>3</th>\n",
              "      <td>003.jpeg</td>\n",
              "      <td>1</td>\n",
              "    </tr>\n",
              "    <tr>\n",
              "      <th>4</th>\n",
              "      <td>004.jpeg</td>\n",
              "      <td>0</td>\n",
              "    </tr>\n",
              "    <tr>\n",
              "      <th>...</th>\n",
              "      <td>...</td>\n",
              "      <td>...</td>\n",
              "    </tr>\n",
              "    <tr>\n",
              "      <th>619</th>\n",
              "      <td>619.jpeg</td>\n",
              "      <td>1</td>\n",
              "    </tr>\n",
              "    <tr>\n",
              "      <th>620</th>\n",
              "      <td>620.jpeg</td>\n",
              "      <td>0</td>\n",
              "    </tr>\n",
              "    <tr>\n",
              "      <th>621</th>\n",
              "      <td>621.jpeg</td>\n",
              "      <td>0</td>\n",
              "    </tr>\n",
              "    <tr>\n",
              "      <th>622</th>\n",
              "      <td>622.jpeg</td>\n",
              "      <td>1</td>\n",
              "    </tr>\n",
              "    <tr>\n",
              "      <th>623</th>\n",
              "      <td>623.jpeg</td>\n",
              "      <td>1</td>\n",
              "    </tr>\n",
              "  </tbody>\n",
              "</table>\n",
              "<p>624 rows × 2 columns</p>\n",
              "</div>\n",
              "      <button class=\"colab-df-convert\" onclick=\"convertToInteractive('df-1667c11b-6539-4450-964a-37ba327fc33d')\"\n",
              "              title=\"Convert this dataframe to an interactive table.\"\n",
              "              style=\"display:none;\">\n",
              "        \n",
              "  <svg xmlns=\"http://www.w3.org/2000/svg\" height=\"24px\"viewBox=\"0 0 24 24\"\n",
              "       width=\"24px\">\n",
              "    <path d=\"M0 0h24v24H0V0z\" fill=\"none\"/>\n",
              "    <path d=\"M18.56 5.44l.94 2.06.94-2.06 2.06-.94-2.06-.94-.94-2.06-.94 2.06-2.06.94zm-11 1L8.5 8.5l.94-2.06 2.06-.94-2.06-.94L8.5 2.5l-.94 2.06-2.06.94zm10 10l.94 2.06.94-2.06 2.06-.94-2.06-.94-.94-2.06-.94 2.06-2.06.94z\"/><path d=\"M17.41 7.96l-1.37-1.37c-.4-.4-.92-.59-1.43-.59-.52 0-1.04.2-1.43.59L10.3 9.45l-7.72 7.72c-.78.78-.78 2.05 0 2.83L4 21.41c.39.39.9.59 1.41.59.51 0 1.02-.2 1.41-.59l7.78-7.78 2.81-2.81c.8-.78.8-2.07 0-2.86zM5.41 20L4 18.59l7.72-7.72 1.47 1.35L5.41 20z\"/>\n",
              "  </svg>\n",
              "      </button>\n",
              "      \n",
              "  <style>\n",
              "    .colab-df-container {\n",
              "      display:flex;\n",
              "      flex-wrap:wrap;\n",
              "      gap: 12px;\n",
              "    }\n",
              "\n",
              "    .colab-df-convert {\n",
              "      background-color: #E8F0FE;\n",
              "      border: none;\n",
              "      border-radius: 50%;\n",
              "      cursor: pointer;\n",
              "      display: none;\n",
              "      fill: #1967D2;\n",
              "      height: 32px;\n",
              "      padding: 0 0 0 0;\n",
              "      width: 32px;\n",
              "    }\n",
              "\n",
              "    .colab-df-convert:hover {\n",
              "      background-color: #E2EBFA;\n",
              "      box-shadow: 0px 1px 2px rgba(60, 64, 67, 0.3), 0px 1px 3px 1px rgba(60, 64, 67, 0.15);\n",
              "      fill: #174EA6;\n",
              "    }\n",
              "\n",
              "    [theme=dark] .colab-df-convert {\n",
              "      background-color: #3B4455;\n",
              "      fill: #D2E3FC;\n",
              "    }\n",
              "\n",
              "    [theme=dark] .colab-df-convert:hover {\n",
              "      background-color: #434B5C;\n",
              "      box-shadow: 0px 1px 3px 1px rgba(0, 0, 0, 0.15);\n",
              "      filter: drop-shadow(0px 1px 2px rgba(0, 0, 0, 0.3));\n",
              "      fill: #FFFFFF;\n",
              "    }\n",
              "  </style>\n",
              "\n",
              "      <script>\n",
              "        const buttonEl =\n",
              "          document.querySelector('#df-1667c11b-6539-4450-964a-37ba327fc33d button.colab-df-convert');\n",
              "        buttonEl.style.display =\n",
              "          google.colab.kernel.accessAllowed ? 'block' : 'none';\n",
              "\n",
              "        async function convertToInteractive(key) {\n",
              "          const element = document.querySelector('#df-1667c11b-6539-4450-964a-37ba327fc33d');\n",
              "          const dataTable =\n",
              "            await google.colab.kernel.invokeFunction('convertToInteractive',\n",
              "                                                     [key], {});\n",
              "          if (!dataTable) return;\n",
              "\n",
              "          const docLinkHtml = 'Like what you see? Visit the ' +\n",
              "            '<a target=\"_blank\" href=https://colab.research.google.com/notebooks/data_table.ipynb>data table notebook</a>'\n",
              "            + ' to learn more about interactive tables.';\n",
              "          element.innerHTML = '';\n",
              "          dataTable['output_type'] = 'display_data';\n",
              "          await google.colab.output.renderOutput(dataTable, element);\n",
              "          const docLink = document.createElement('div');\n",
              "          docLink.innerHTML = docLinkHtml;\n",
              "          element.appendChild(docLink);\n",
              "        }\n",
              "      </script>\n",
              "    </div>\n",
              "  </div>\n",
              "  "
            ]
          },
          "metadata": {},
          "execution_count": 22
        }
      ],
      "source": [
        "df = pd.DataFrame()\n",
        "df['Id'] = [f'{i:03d}.jpeg' for i in range(len(img_paths_test))]\n",
        "df['Category'] = predictions.astype(int)\n",
        "df.to_csv('submission.csv', index=None)\n",
        "df"
      ]
    },
    {
      "cell_type": "code",
      "execution_count": 23,
      "metadata": {
        "id": "oIoSvjSGLODX"
      },
      "outputs": [],
      "source": [
        "# 1. save whole model and weights\n",
        "model.save('my_model.h5')\n",
        "model2 = models.load_model('my_model.h5')"
      ]
    },
    {
      "cell_type": "code",
      "execution_count": 24,
      "metadata": {
        "id": "LImQE-4K9wcI"
      },
      "outputs": [],
      "source": [
        "# 2. save and load weights only\n",
        "model.save_weights('my_model_weights.h5')\n",
        "\n",
        "# Rebuild model before load weights !\n",
        "model2 = models.Model(base_model.input, x)\n",
        "model2.load_weights('my_model_weights.h5')"
      ]
    },
    {
      "cell_type": "code",
      "source": [],
      "metadata": {
        "id": "ftn1aoqlgllE"
      },
      "execution_count": null,
      "outputs": []
    }
  ],
  "metadata": {
    "accelerator": "GPU",
    "colab": {
      "provenance": [],
      "include_colab_link": true
    },
    "kernelspec": {
      "display_name": "Python 3",
      "name": "python3"
    },
    "language_info": {
      "name": "python"
    },
    "widgets": {
      "application/vnd.jupyter.widget-state+json": {
        "2b49b2c080df4da38baaa81a02f66a21": {
          "model_module": "@jupyter-widgets/controls",
          "model_name": "HBoxModel",
          "model_module_version": "1.5.0",
          "state": {
            "_dom_classes": [],
            "_model_module": "@jupyter-widgets/controls",
            "_model_module_version": "1.5.0",
            "_model_name": "HBoxModel",
            "_view_count": null,
            "_view_module": "@jupyter-widgets/controls",
            "_view_module_version": "1.5.0",
            "_view_name": "HBoxView",
            "box_style": "",
            "children": [
              "IPY_MODEL_f2ec4c321c2845aa8c89f87442be0efb",
              "IPY_MODEL_4a66de9e09ff42f1bdbf2827f60652d2",
              "IPY_MODEL_e8065858ba704b57a3a8b788009f936a"
            ],
            "layout": "IPY_MODEL_deeb40e3a04a4368a66d617046a6c557"
          }
        },
        "f2ec4c321c2845aa8c89f87442be0efb": {
          "model_module": "@jupyter-widgets/controls",
          "model_name": "HTMLModel",
          "model_module_version": "1.5.0",
          "state": {
            "_dom_classes": [],
            "_model_module": "@jupyter-widgets/controls",
            "_model_module_version": "1.5.0",
            "_model_name": "HTMLModel",
            "_view_count": null,
            "_view_module": "@jupyter-widgets/controls",
            "_view_module_version": "1.5.0",
            "_view_name": "HTMLView",
            "description": "",
            "description_tooltip": null,
            "layout": "IPY_MODEL_e76321cfd1174204a24c268582553e7a",
            "placeholder": "​",
            "style": "IPY_MODEL_0ab595dff6e44a86bf50afe441411c04",
            "value": "100%"
          }
        },
        "4a66de9e09ff42f1bdbf2827f60652d2": {
          "model_module": "@jupyter-widgets/controls",
          "model_name": "FloatProgressModel",
          "model_module_version": "1.5.0",
          "state": {
            "_dom_classes": [],
            "_model_module": "@jupyter-widgets/controls",
            "_model_module_version": "1.5.0",
            "_model_name": "FloatProgressModel",
            "_view_count": null,
            "_view_module": "@jupyter-widgets/controls",
            "_view_module_version": "1.5.0",
            "_view_name": "ProgressView",
            "bar_style": "success",
            "description": "",
            "description_tooltip": null,
            "layout": "IPY_MODEL_964b4251fda84fa88b30658e469e71d0",
            "max": 17,
            "min": 0,
            "orientation": "horizontal",
            "style": "IPY_MODEL_71f80ae80cf342a8a77741d7db27190f",
            "value": 17
          }
        },
        "e8065858ba704b57a3a8b788009f936a": {
          "model_module": "@jupyter-widgets/controls",
          "model_name": "HTMLModel",
          "model_module_version": "1.5.0",
          "state": {
            "_dom_classes": [],
            "_model_module": "@jupyter-widgets/controls",
            "_model_module_version": "1.5.0",
            "_model_name": "HTMLModel",
            "_view_count": null,
            "_view_module": "@jupyter-widgets/controls",
            "_view_module_version": "1.5.0",
            "_view_name": "HTMLView",
            "description": "",
            "description_tooltip": null,
            "layout": "IPY_MODEL_d9640b173a6b4458951ce07ea507d199",
            "placeholder": "​",
            "style": "IPY_MODEL_853c1293a0b442a582cd1d02ad000f38",
            "value": " 17/17 [00:31&lt;00:00,  1.46s/it]"
          }
        },
        "deeb40e3a04a4368a66d617046a6c557": {
          "model_module": "@jupyter-widgets/base",
          "model_name": "LayoutModel",
          "model_module_version": "1.2.0",
          "state": {
            "_model_module": "@jupyter-widgets/base",
            "_model_module_version": "1.2.0",
            "_model_name": "LayoutModel",
            "_view_count": null,
            "_view_module": "@jupyter-widgets/base",
            "_view_module_version": "1.2.0",
            "_view_name": "LayoutView",
            "align_content": null,
            "align_items": null,
            "align_self": null,
            "border": null,
            "bottom": null,
            "display": null,
            "flex": null,
            "flex_flow": null,
            "grid_area": null,
            "grid_auto_columns": null,
            "grid_auto_flow": null,
            "grid_auto_rows": null,
            "grid_column": null,
            "grid_gap": null,
            "grid_row": null,
            "grid_template_areas": null,
            "grid_template_columns": null,
            "grid_template_rows": null,
            "height": null,
            "justify_content": null,
            "justify_items": null,
            "left": null,
            "margin": null,
            "max_height": null,
            "max_width": null,
            "min_height": null,
            "min_width": null,
            "object_fit": null,
            "object_position": null,
            "order": null,
            "overflow": null,
            "overflow_x": null,
            "overflow_y": null,
            "padding": null,
            "right": null,
            "top": null,
            "visibility": null,
            "width": null
          }
        },
        "e76321cfd1174204a24c268582553e7a": {
          "model_module": "@jupyter-widgets/base",
          "model_name": "LayoutModel",
          "model_module_version": "1.2.0",
          "state": {
            "_model_module": "@jupyter-widgets/base",
            "_model_module_version": "1.2.0",
            "_model_name": "LayoutModel",
            "_view_count": null,
            "_view_module": "@jupyter-widgets/base",
            "_view_module_version": "1.2.0",
            "_view_name": "LayoutView",
            "align_content": null,
            "align_items": null,
            "align_self": null,
            "border": null,
            "bottom": null,
            "display": null,
            "flex": null,
            "flex_flow": null,
            "grid_area": null,
            "grid_auto_columns": null,
            "grid_auto_flow": null,
            "grid_auto_rows": null,
            "grid_column": null,
            "grid_gap": null,
            "grid_row": null,
            "grid_template_areas": null,
            "grid_template_columns": null,
            "grid_template_rows": null,
            "height": null,
            "justify_content": null,
            "justify_items": null,
            "left": null,
            "margin": null,
            "max_height": null,
            "max_width": null,
            "min_height": null,
            "min_width": null,
            "object_fit": null,
            "object_position": null,
            "order": null,
            "overflow": null,
            "overflow_x": null,
            "overflow_y": null,
            "padding": null,
            "right": null,
            "top": null,
            "visibility": null,
            "width": null
          }
        },
        "0ab595dff6e44a86bf50afe441411c04": {
          "model_module": "@jupyter-widgets/controls",
          "model_name": "DescriptionStyleModel",
          "model_module_version": "1.5.0",
          "state": {
            "_model_module": "@jupyter-widgets/controls",
            "_model_module_version": "1.5.0",
            "_model_name": "DescriptionStyleModel",
            "_view_count": null,
            "_view_module": "@jupyter-widgets/base",
            "_view_module_version": "1.2.0",
            "_view_name": "StyleView",
            "description_width": ""
          }
        },
        "964b4251fda84fa88b30658e469e71d0": {
          "model_module": "@jupyter-widgets/base",
          "model_name": "LayoutModel",
          "model_module_version": "1.2.0",
          "state": {
            "_model_module": "@jupyter-widgets/base",
            "_model_module_version": "1.2.0",
            "_model_name": "LayoutModel",
            "_view_count": null,
            "_view_module": "@jupyter-widgets/base",
            "_view_module_version": "1.2.0",
            "_view_name": "LayoutView",
            "align_content": null,
            "align_items": null,
            "align_self": null,
            "border": null,
            "bottom": null,
            "display": null,
            "flex": null,
            "flex_flow": null,
            "grid_area": null,
            "grid_auto_columns": null,
            "grid_auto_flow": null,
            "grid_auto_rows": null,
            "grid_column": null,
            "grid_gap": null,
            "grid_row": null,
            "grid_template_areas": null,
            "grid_template_columns": null,
            "grid_template_rows": null,
            "height": null,
            "justify_content": null,
            "justify_items": null,
            "left": null,
            "margin": null,
            "max_height": null,
            "max_width": null,
            "min_height": null,
            "min_width": null,
            "object_fit": null,
            "object_position": null,
            "order": null,
            "overflow": null,
            "overflow_x": null,
            "overflow_y": null,
            "padding": null,
            "right": null,
            "top": null,
            "visibility": null,
            "width": null
          }
        },
        "71f80ae80cf342a8a77741d7db27190f": {
          "model_module": "@jupyter-widgets/controls",
          "model_name": "ProgressStyleModel",
          "model_module_version": "1.5.0",
          "state": {
            "_model_module": "@jupyter-widgets/controls",
            "_model_module_version": "1.5.0",
            "_model_name": "ProgressStyleModel",
            "_view_count": null,
            "_view_module": "@jupyter-widgets/base",
            "_view_module_version": "1.2.0",
            "_view_name": "StyleView",
            "bar_color": null,
            "description_width": ""
          }
        },
        "d9640b173a6b4458951ce07ea507d199": {
          "model_module": "@jupyter-widgets/base",
          "model_name": "LayoutModel",
          "model_module_version": "1.2.0",
          "state": {
            "_model_module": "@jupyter-widgets/base",
            "_model_module_version": "1.2.0",
            "_model_name": "LayoutModel",
            "_view_count": null,
            "_view_module": "@jupyter-widgets/base",
            "_view_module_version": "1.2.0",
            "_view_name": "LayoutView",
            "align_content": null,
            "align_items": null,
            "align_self": null,
            "border": null,
            "bottom": null,
            "display": null,
            "flex": null,
            "flex_flow": null,
            "grid_area": null,
            "grid_auto_columns": null,
            "grid_auto_flow": null,
            "grid_auto_rows": null,
            "grid_column": null,
            "grid_gap": null,
            "grid_row": null,
            "grid_template_areas": null,
            "grid_template_columns": null,
            "grid_template_rows": null,
            "height": null,
            "justify_content": null,
            "justify_items": null,
            "left": null,
            "margin": null,
            "max_height": null,
            "max_width": null,
            "min_height": null,
            "min_width": null,
            "object_fit": null,
            "object_position": null,
            "order": null,
            "overflow": null,
            "overflow_x": null,
            "overflow_y": null,
            "padding": null,
            "right": null,
            "top": null,
            "visibility": null,
            "width": null
          }
        },
        "853c1293a0b442a582cd1d02ad000f38": {
          "model_module": "@jupyter-widgets/controls",
          "model_name": "DescriptionStyleModel",
          "model_module_version": "1.5.0",
          "state": {
            "_model_module": "@jupyter-widgets/controls",
            "_model_module_version": "1.5.0",
            "_model_name": "DescriptionStyleModel",
            "_view_count": null,
            "_view_module": "@jupyter-widgets/base",
            "_view_module_version": "1.2.0",
            "_view_name": "StyleView",
            "description_width": ""
          }
        }
      }
    }
  },
  "nbformat": 4,
  "nbformat_minor": 0
}